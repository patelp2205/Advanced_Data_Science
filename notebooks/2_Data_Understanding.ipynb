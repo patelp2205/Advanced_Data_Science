{
 "cells": [
  {
   "cell_type": "markdown",
   "metadata": {},
   "source": [
    "![](CRISP_DM.png)"
   ]
  },
  {
   "cell_type": "code",
   "execution_count": 1,
   "metadata": {},
   "outputs": [],
   "source": [
    "# importing the required packages\n",
    "\n",
    "import subprocess\n",
    "import os\n",
    "import pandas as pd\n",
    "import requests\n",
    "from bs4 import BeautifulSoup\n",
    "import json\n",
    "\n",
    "# setting the  limit for displaying maximum amount of rows values of dataframe\n",
    "pd.set_option('display.max_rows', 500)"
   ]
  },
  {
   "cell_type": "markdown",
   "metadata": {},
   "source": [
    "# Data Understanding\n",
    " Here we have three options to obtain the data. They are given below:\n",
    "*   John Hopkins (GITHUB) https://github.com/CSSEGISandData/COVID-19.git\n",
    "*   RKI, webscrape (webscraping) https://www.rki.de/DE/Content/InfAZ/N/Neuartiges_Coronavirus/Fallzahlen.html\n",
    "*   REST API services to retreive data https://npgeo-corona-npgeo-de.hub.arcgis.com/\n",
    "\n",
    "NOTE: These methods will be explained in breif subsequently .\n",
    "\n"
   ]
  },
  {
   "cell_type": "markdown",
   "metadata": {},
   "source": [
    "# 1. John Hopkins (GITHUB)\n",
    "\n",
    "* getting the data from the following link by using the command:\n",
    "        git clone/pull https://github.com/CSSEGISandData/COVID-19.git"
   ]
  },
  {
   "cell_type": "code",
   "execution_count": 2,
   "metadata": {},
   "outputs": [
    {
     "name": "stdout",
     "output_type": "stream",
     "text": [
      "Error: b'From https://github.com/CSSEGISandData/COVID-19\\n   b7ffac4f..dd98296e  master     -> origin/master\\n   41bb2630..2e3a793d  web-data   -> origin/web-data\\n'\n",
      "out :b'Updating b7ffac4f..dd98296e\\nFast-forward\\n csse_covid_19_data/csse_covid_19_daily_reports_us/08-18-2020.csv | 4 ++--\\n 1 file changed, 2 insertions(+), 2 deletions(-)\\n'\n"
     ]
    }
   ],
   "source": [
    "# Getting the data from GITHUB and storing in the local drive\n",
    "\n",
    "git_pull= subprocess.Popen(\"git pull\",\n",
    "                          cwd=os.path.dirname('../data/raw/COVID-19/' ),\n",
    "                          shell= True,\n",
    "                          stdout=subprocess.PIPE, \n",
    "                          stderr=subprocess.PIPE )\n",
    "\n",
    "(out,error)= git_pull.communicate()\n",
    "\n",
    "print(\"Error: \" + str(error))\n",
    "print(\"out :\" + str(out))"
   ]
  },
  {
   "cell_type": "code",
   "execution_count": 3,
   "metadata": {},
   "outputs": [],
   "source": [
    "# specifying the absolute data path\n",
    "data_path='../data/raw/COVID-19/csse_covid_19_data/csse_covid_19_time_series/time_series_covid19_confirmed_global.csv'\n",
    "\n",
    "pd_raw=pd.read_csv(data_path)"
   ]
  },
  {
   "cell_type": "code",
   "execution_count": 4,
   "metadata": {},
   "outputs": [
    {
     "data": {
      "text/html": [
       "<div>\n",
       "<style scoped>\n",
       "    .dataframe tbody tr th:only-of-type {\n",
       "        vertical-align: middle;\n",
       "    }\n",
       "\n",
       "    .dataframe tbody tr th {\n",
       "        vertical-align: top;\n",
       "    }\n",
       "\n",
       "    .dataframe thead th {\n",
       "        text-align: right;\n",
       "    }\n",
       "</style>\n",
       "<table border=\"1\" class=\"dataframe\">\n",
       "  <thead>\n",
       "    <tr style=\"text-align: right;\">\n",
       "      <th></th>\n",
       "      <th>Province/State</th>\n",
       "      <th>Country/Region</th>\n",
       "      <th>Lat</th>\n",
       "      <th>Long</th>\n",
       "      <th>1/22/20</th>\n",
       "      <th>1/23/20</th>\n",
       "      <th>1/24/20</th>\n",
       "      <th>1/25/20</th>\n",
       "      <th>1/26/20</th>\n",
       "      <th>1/27/20</th>\n",
       "      <th>...</th>\n",
       "      <th>8/10/20</th>\n",
       "      <th>8/11/20</th>\n",
       "      <th>8/12/20</th>\n",
       "      <th>8/13/20</th>\n",
       "      <th>8/14/20</th>\n",
       "      <th>8/15/20</th>\n",
       "      <th>8/16/20</th>\n",
       "      <th>8/17/20</th>\n",
       "      <th>8/18/20</th>\n",
       "      <th>8/19/20</th>\n",
       "    </tr>\n",
       "  </thead>\n",
       "  <tbody>\n",
       "    <tr>\n",
       "      <th>0</th>\n",
       "      <td>NaN</td>\n",
       "      <td>Afghanistan</td>\n",
       "      <td>33.93911</td>\n",
       "      <td>67.709953</td>\n",
       "      <td>0</td>\n",
       "      <td>0</td>\n",
       "      <td>0</td>\n",
       "      <td>0</td>\n",
       "      <td>0</td>\n",
       "      <td>0</td>\n",
       "      <td>...</td>\n",
       "      <td>37162</td>\n",
       "      <td>37269</td>\n",
       "      <td>37345</td>\n",
       "      <td>37424</td>\n",
       "      <td>37431</td>\n",
       "      <td>37551</td>\n",
       "      <td>37596</td>\n",
       "      <td>37599</td>\n",
       "      <td>37599</td>\n",
       "      <td>37599</td>\n",
       "    </tr>\n",
       "    <tr>\n",
       "      <th>1</th>\n",
       "      <td>NaN</td>\n",
       "      <td>Albania</td>\n",
       "      <td>41.15330</td>\n",
       "      <td>20.168300</td>\n",
       "      <td>0</td>\n",
       "      <td>0</td>\n",
       "      <td>0</td>\n",
       "      <td>0</td>\n",
       "      <td>0</td>\n",
       "      <td>0</td>\n",
       "      <td>...</td>\n",
       "      <td>6536</td>\n",
       "      <td>6676</td>\n",
       "      <td>6817</td>\n",
       "      <td>6971</td>\n",
       "      <td>7117</td>\n",
       "      <td>7260</td>\n",
       "      <td>7380</td>\n",
       "      <td>7499</td>\n",
       "      <td>7654</td>\n",
       "      <td>7812</td>\n",
       "    </tr>\n",
       "    <tr>\n",
       "      <th>2</th>\n",
       "      <td>NaN</td>\n",
       "      <td>Algeria</td>\n",
       "      <td>28.03390</td>\n",
       "      <td>1.659600</td>\n",
       "      <td>0</td>\n",
       "      <td>0</td>\n",
       "      <td>0</td>\n",
       "      <td>0</td>\n",
       "      <td>0</td>\n",
       "      <td>0</td>\n",
       "      <td>...</td>\n",
       "      <td>35712</td>\n",
       "      <td>36204</td>\n",
       "      <td>36699</td>\n",
       "      <td>37187</td>\n",
       "      <td>37664</td>\n",
       "      <td>38133</td>\n",
       "      <td>38583</td>\n",
       "      <td>39025</td>\n",
       "      <td>39444</td>\n",
       "      <td>39847</td>\n",
       "    </tr>\n",
       "    <tr>\n",
       "      <th>3</th>\n",
       "      <td>NaN</td>\n",
       "      <td>Andorra</td>\n",
       "      <td>42.50630</td>\n",
       "      <td>1.521800</td>\n",
       "      <td>0</td>\n",
       "      <td>0</td>\n",
       "      <td>0</td>\n",
       "      <td>0</td>\n",
       "      <td>0</td>\n",
       "      <td>0</td>\n",
       "      <td>...</td>\n",
       "      <td>963</td>\n",
       "      <td>963</td>\n",
       "      <td>977</td>\n",
       "      <td>981</td>\n",
       "      <td>989</td>\n",
       "      <td>989</td>\n",
       "      <td>989</td>\n",
       "      <td>1005</td>\n",
       "      <td>1005</td>\n",
       "      <td>1024</td>\n",
       "    </tr>\n",
       "    <tr>\n",
       "      <th>4</th>\n",
       "      <td>NaN</td>\n",
       "      <td>Angola</td>\n",
       "      <td>-11.20270</td>\n",
       "      <td>17.873900</td>\n",
       "      <td>0</td>\n",
       "      <td>0</td>\n",
       "      <td>0</td>\n",
       "      <td>0</td>\n",
       "      <td>0</td>\n",
       "      <td>0</td>\n",
       "      <td>...</td>\n",
       "      <td>1679</td>\n",
       "      <td>1735</td>\n",
       "      <td>1762</td>\n",
       "      <td>1815</td>\n",
       "      <td>1852</td>\n",
       "      <td>1879</td>\n",
       "      <td>1906</td>\n",
       "      <td>1935</td>\n",
       "      <td>1966</td>\n",
       "      <td>2015</td>\n",
       "    </tr>\n",
       "  </tbody>\n",
       "</table>\n",
       "<p>5 rows × 215 columns</p>\n",
       "</div>"
      ],
      "text/plain": [
       "  Province/State Country/Region       Lat       Long  1/22/20  1/23/20  \\\n",
       "0            NaN    Afghanistan  33.93911  67.709953        0        0   \n",
       "1            NaN        Albania  41.15330  20.168300        0        0   \n",
       "2            NaN        Algeria  28.03390   1.659600        0        0   \n",
       "3            NaN        Andorra  42.50630   1.521800        0        0   \n",
       "4            NaN         Angola -11.20270  17.873900        0        0   \n",
       "\n",
       "   1/24/20  1/25/20  1/26/20  1/27/20  ...  8/10/20  8/11/20  8/12/20  \\\n",
       "0        0        0        0        0  ...    37162    37269    37345   \n",
       "1        0        0        0        0  ...     6536     6676     6817   \n",
       "2        0        0        0        0  ...    35712    36204    36699   \n",
       "3        0        0        0        0  ...      963      963      977   \n",
       "4        0        0        0        0  ...     1679     1735     1762   \n",
       "\n",
       "   8/13/20  8/14/20  8/15/20  8/16/20  8/17/20  8/18/20  8/19/20  \n",
       "0    37424    37431    37551    37596    37599    37599    37599  \n",
       "1     6971     7117     7260     7380     7499     7654     7812  \n",
       "2    37187    37664    38133    38583    39025    39444    39847  \n",
       "3      981      989      989      989     1005     1005     1024  \n",
       "4     1815     1852     1879     1906     1935     1966     2015  \n",
       "\n",
       "[5 rows x 215 columns]"
      ]
     },
     "execution_count": 4,
     "metadata": {},
     "output_type": "execute_result"
    }
   ],
   "source": [
    "pd_raw.head()"
   ]
  },
  {
   "cell_type": "markdown",
   "metadata": {},
   "source": [
    "# Webscrapping\n",
    "+ RKI, webscrape (webscraping) [Robert-koch website with case-counts](https://www.rki.de/DE/Content/InfAZ/N/Neuartiges_Coronavirus/Fallzahlen.html)\n",
    "    "
   ]
  },
  {
   "cell_type": "code",
   "execution_count": 5,
   "metadata": {},
   "outputs": [],
   "source": [
    "# Retrieving the page  to be read\n",
    "page=requests.get(\"https://www.rki.de/DE/Content/InfAZ/N/Neuartiges_Coronavirus/Fallzahlen.html\")"
   ]
  },
  {
   "cell_type": "code",
   "execution_count": 6,
   "metadata": {},
   "outputs": [],
   "source": [
    "soup= BeautifulSoup(page.content,'html.parser')"
   ]
  },
  {
   "cell_type": "code",
   "execution_count": 7,
   "metadata": {},
   "outputs": [],
   "source": [
    "# Retrieving the entire Homepage\n",
    "html_table=soup.find('table')"
   ]
  },
  {
   "cell_type": "code",
   "execution_count": 8,
   "metadata": {},
   "outputs": [],
   "source": [
    "# find all rows in table\n",
    "all_rows=html_table.find_all('tr')"
   ]
  },
  {
   "cell_type": "code",
   "execution_count": 9,
   "metadata": {},
   "outputs": [],
   "source": [
    "final_data_list=[]"
   ]
  },
  {
   "cell_type": "code",
   "execution_count": 10,
   "metadata": {},
   "outputs": [],
   "source": [
    "for pos, rows in enumerate(all_rows):\n",
    "    \n",
    "    col_list=[each_col.get_text(strip=True) for each_col in rows.find_all('td')] # 'td' for each individual data element\n",
    "    final_data_list.append(col_list)\n",
    "       "
   ]
  },
  {
   "cell_type": "code",
   "execution_count": 11,
   "metadata": {},
   "outputs": [],
   "source": [
    "# pushing into the data frame and renaming the columns\n",
    "\n",
    "pd_daily_status=pd.DataFrame(final_data_list).dropna().rename(columns={0:'state',\n",
    "                                                       1:'cases',\n",
    "                                                       2:'changes',\n",
    "                                                       3:'cases_per_100k',\n",
    "                                                       4:'fatal',\n",
    "                                                       5:'comment'})"
   ]
  },
  {
   "cell_type": "code",
   "execution_count": 12,
   "metadata": {},
   "outputs": [
    {
     "data": {
      "text/html": [
       "<div>\n",
       "<style scoped>\n",
       "    .dataframe tbody tr th:only-of-type {\n",
       "        vertical-align: middle;\n",
       "    }\n",
       "\n",
       "    .dataframe tbody tr th {\n",
       "        vertical-align: top;\n",
       "    }\n",
       "\n",
       "    .dataframe thead th {\n",
       "        text-align: right;\n",
       "    }\n",
       "</style>\n",
       "<table border=\"1\" class=\"dataframe\">\n",
       "  <thead>\n",
       "    <tr style=\"text-align: right;\">\n",
       "      <th></th>\n",
       "      <th>state</th>\n",
       "      <th>cases</th>\n",
       "      <th>changes</th>\n",
       "      <th>cases_per_100k</th>\n",
       "      <th>fatal</th>\n",
       "      <th>comment</th>\n",
       "    </tr>\n",
       "  </thead>\n",
       "  <tbody>\n",
       "    <tr>\n",
       "      <th>2</th>\n",
       "      <td>Baden-Württem­berg</td>\n",
       "      <td>39.227</td>\n",
       "      <td>+259</td>\n",
       "      <td>959</td>\n",
       "      <td>8,7</td>\n",
       "      <td>1.860</td>\n",
       "    </tr>\n",
       "    <tr>\n",
       "      <th>3</th>\n",
       "      <td>Bayern</td>\n",
       "      <td>54.101</td>\n",
       "      <td>+394</td>\n",
       "      <td>1.595</td>\n",
       "      <td>12,2</td>\n",
       "      <td>2.631</td>\n",
       "    </tr>\n",
       "    <tr>\n",
       "      <th>4</th>\n",
       "      <td>Berlin</td>\n",
       "      <td>10.463</td>\n",
       "      <td>+69</td>\n",
       "      <td>400</td>\n",
       "      <td>10,7</td>\n",
       "      <td>224</td>\n",
       "    </tr>\n",
       "    <tr>\n",
       "      <th>5</th>\n",
       "      <td>Branden­burg</td>\n",
       "      <td>3.740</td>\n",
       "      <td>+12</td>\n",
       "      <td>60</td>\n",
       "      <td>2,4</td>\n",
       "      <td>169</td>\n",
       "    </tr>\n",
       "    <tr>\n",
       "      <th>6</th>\n",
       "      <td>Bremen</td>\n",
       "      <td>1.877</td>\n",
       "      <td>+12</td>\n",
       "      <td>55</td>\n",
       "      <td>8,1</td>\n",
       "      <td>56</td>\n",
       "    </tr>\n",
       "  </tbody>\n",
       "</table>\n",
       "</div>"
      ],
      "text/plain": [
       "                state   cases changes cases_per_100k fatal comment\n",
       "2  Baden-Württem­berg  39.227    +259            959   8,7   1.860\n",
       "3              Bayern  54.101    +394          1.595  12,2   2.631\n",
       "4              Berlin  10.463     +69            400  10,7     224\n",
       "5        Branden­burg   3.740     +12             60   2,4     169\n",
       "6              Bremen   1.877     +12             55   8,1      56"
      ]
     },
     "execution_count": 12,
     "metadata": {},
     "output_type": "execute_result"
    }
   ],
   "source": [
    "pd_daily_status.head()"
   ]
  },
  {
   "cell_type": "markdown",
   "metadata": {},
   "source": [
    "# REST API calls"
   ]
  },
  {
   "cell_type": "code",
   "execution_count": 13,
   "metadata": {},
   "outputs": [],
   "source": [
    "# requesting data  for Germany\n",
    "data=requests.get('https://services7.arcgis.com/mOBPykOjAyBO2ZKk/arcgis/rest/services/Coronaf%C3%A4lle_in_den_Bundesl%C3%A4ndern/FeatureServer/0/query?where=1%3D1&outFields=*&outSR=4326&f=json')"
   ]
  },
  {
   "cell_type": "code",
   "execution_count": 14,
   "metadata": {},
   "outputs": [
    {
     "data": {
      "text/plain": [
       "dict"
      ]
     },
     "execution_count": 14,
     "metadata": {},
     "output_type": "execute_result"
    }
   ],
   "source": [
    "# using JSON package to load data \n",
    "json_object=json.loads(data.content)\n",
    "\n",
    "# verifying the data type of 'json_object'\n",
    "type(json_object)"
   ]
  },
  {
   "cell_type": "code",
   "execution_count": 15,
   "metadata": {},
   "outputs": [],
   "source": [
    "# generate the an empty list called 'full_list' and than append data from 'json_object'\n",
    "full_list=[]\n",
    "for pos,each_dict in enumerate (json_object['features'][:]):\n",
    "    full_list.append(each_dict['attributes'])"
   ]
  },
  {
   "cell_type": "code",
   "execution_count": 16,
   "metadata": {},
   "outputs": [
    {
     "data": {
      "text/html": [
       "<div>\n",
       "<style scoped>\n",
       "    .dataframe tbody tr th:only-of-type {\n",
       "        vertical-align: middle;\n",
       "    }\n",
       "\n",
       "    .dataframe tbody tr th {\n",
       "        vertical-align: top;\n",
       "    }\n",
       "\n",
       "    .dataframe thead th {\n",
       "        text-align: right;\n",
       "    }\n",
       "</style>\n",
       "<table border=\"1\" class=\"dataframe\">\n",
       "  <thead>\n",
       "    <tr style=\"text-align: right;\">\n",
       "      <th></th>\n",
       "      <th>OBJECTID_1</th>\n",
       "      <th>LAN_ew_AGS</th>\n",
       "      <th>LAN_ew_GEN</th>\n",
       "      <th>LAN_ew_BEZ</th>\n",
       "      <th>LAN_ew_EWZ</th>\n",
       "      <th>OBJECTID</th>\n",
       "      <th>Fallzahl</th>\n",
       "      <th>Aktualisierung</th>\n",
       "      <th>AGS_TXT</th>\n",
       "      <th>GlobalID</th>\n",
       "      <th>faelle_100000_EW</th>\n",
       "      <th>Shape__Area</th>\n",
       "      <th>Shape__Length</th>\n",
       "      <th>Death</th>\n",
       "    </tr>\n",
       "  </thead>\n",
       "  <tbody>\n",
       "    <tr>\n",
       "      <th>0</th>\n",
       "      <td>1</td>\n",
       "      <td>01</td>\n",
       "      <td>Schleswig-Holstein</td>\n",
       "      <td>Land</td>\n",
       "      <td>2896712</td>\n",
       "      <td>15</td>\n",
       "      <td>3851</td>\n",
       "      <td>1597874400000</td>\n",
       "      <td>01</td>\n",
       "      <td>fc5ba936-c95c-432c-8a33-9eb2f30b660f</td>\n",
       "      <td>132.943834</td>\n",
       "      <td>4.573731e+10</td>\n",
       "      <td>2.881496e+06</td>\n",
       "      <td>160</td>\n",
       "    </tr>\n",
       "    <tr>\n",
       "      <th>1</th>\n",
       "      <td>2</td>\n",
       "      <td>02</td>\n",
       "      <td>Hamburg</td>\n",
       "      <td>Freie und Hansestadt</td>\n",
       "      <td>1841179</td>\n",
       "      <td>6</td>\n",
       "      <td>5954</td>\n",
       "      <td>1597874400000</td>\n",
       "      <td>02</td>\n",
       "      <td>0f3e860c-5181-4d3f-a421-1d51f50315ea</td>\n",
       "      <td>323.379747</td>\n",
       "      <td>2.089396e+09</td>\n",
       "      <td>4.188002e+05</td>\n",
       "      <td>264</td>\n",
       "    </tr>\n",
       "    <tr>\n",
       "      <th>2</th>\n",
       "      <td>3</td>\n",
       "      <td>03</td>\n",
       "      <td>Niedersachsen</td>\n",
       "      <td>Land</td>\n",
       "      <td>7982448</td>\n",
       "      <td>9</td>\n",
       "      <td>15724</td>\n",
       "      <td>1597874400000</td>\n",
       "      <td>03</td>\n",
       "      <td>3fd77024-c29b-4843-9be8-682ad48e60c9</td>\n",
       "      <td>196.982179</td>\n",
       "      <td>1.299836e+11</td>\n",
       "      <td>4.008988e+06</td>\n",
       "      <td>658</td>\n",
       "    </tr>\n",
       "    <tr>\n",
       "      <th>3</th>\n",
       "      <td>4</td>\n",
       "      <td>04</td>\n",
       "      <td>Bremen</td>\n",
       "      <td>Freie Hansestadt</td>\n",
       "      <td>682986</td>\n",
       "      <td>5</td>\n",
       "      <td>1877</td>\n",
       "      <td>1597874400000</td>\n",
       "      <td>04</td>\n",
       "      <td>4132268b-54de-4327-ac1e-760e915112f1</td>\n",
       "      <td>274.822617</td>\n",
       "      <td>1.119157e+09</td>\n",
       "      <td>3.357177e+05</td>\n",
       "      <td>56</td>\n",
       "    </tr>\n",
       "    <tr>\n",
       "      <th>4</th>\n",
       "      <td>5</td>\n",
       "      <td>05</td>\n",
       "      <td>Nordrhein-Westfalen</td>\n",
       "      <td>Land</td>\n",
       "      <td>17932651</td>\n",
       "      <td>10</td>\n",
       "      <td>55770</td>\n",
       "      <td>1597874400000</td>\n",
       "      <td>05</td>\n",
       "      <td>561d658f-3ee5-46e3-bc95-3528c6558ab9</td>\n",
       "      <td>310.996963</td>\n",
       "      <td>8.782936e+10</td>\n",
       "      <td>2.648673e+06</td>\n",
       "      <td>1790</td>\n",
       "    </tr>\n",
       "  </tbody>\n",
       "</table>\n",
       "</div>"
      ],
      "text/plain": [
       "   OBJECTID_1 LAN_ew_AGS           LAN_ew_GEN            LAN_ew_BEZ  \\\n",
       "0           1         01   Schleswig-Holstein                  Land   \n",
       "1           2         02              Hamburg  Freie und Hansestadt   \n",
       "2           3         03        Niedersachsen                  Land   \n",
       "3           4         04               Bremen      Freie Hansestadt   \n",
       "4           5         05  Nordrhein-Westfalen                  Land   \n",
       "\n",
       "   LAN_ew_EWZ  OBJECTID  Fallzahl  Aktualisierung AGS_TXT  \\\n",
       "0     2896712        15      3851   1597874400000      01   \n",
       "1     1841179         6      5954   1597874400000      02   \n",
       "2     7982448         9     15724   1597874400000      03   \n",
       "3      682986         5      1877   1597874400000      04   \n",
       "4    17932651        10     55770   1597874400000      05   \n",
       "\n",
       "                               GlobalID  faelle_100000_EW   Shape__Area  \\\n",
       "0  fc5ba936-c95c-432c-8a33-9eb2f30b660f        132.943834  4.573731e+10   \n",
       "1  0f3e860c-5181-4d3f-a421-1d51f50315ea        323.379747  2.089396e+09   \n",
       "2  3fd77024-c29b-4843-9be8-682ad48e60c9        196.982179  1.299836e+11   \n",
       "3  4132268b-54de-4327-ac1e-760e915112f1        274.822617  1.119157e+09   \n",
       "4  561d658f-3ee5-46e3-bc95-3528c6558ab9        310.996963  8.782936e+10   \n",
       "\n",
       "   Shape__Length  Death  \n",
       "0   2.881496e+06    160  \n",
       "1   4.188002e+05    264  \n",
       "2   4.008988e+06    658  \n",
       "3   3.357177e+05     56  \n",
       "4   2.648673e+06   1790  "
      ]
     },
     "execution_count": 16,
     "metadata": {},
     "output_type": "execute_result"
    }
   ],
   "source": [
    "# converting  into data frame\n",
    "pd_full_list=pd.DataFrame(full_list)\n",
    "pd_full_list.head()"
   ]
  },
  {
   "cell_type": "code",
   "execution_count": 17,
   "metadata": {
    "scrolled": true
   },
   "outputs": [],
   "source": [
    "# saving the dataframe in CSV format\n",
    "pd_full_list.to_csv('../data/raw/NPGEO/GER_state_data.csv',sep=';')\n"
   ]
  },
  {
   "cell_type": "markdown",
   "metadata": {},
   "source": [
    "# API access via REST service, e.g. USA data\n",
    "\n",
    "example of a REST conform interface (attention registration mandatory)\n",
    "\n",
    "www.smartable.ai\n"
   ]
  },
  {
   "cell_type": "code",
   "execution_count": 18,
   "metadata": {},
   "outputs": [],
   "source": [
    "url_endpoint='https://api.smartable.ai/coronavirus/stats/US'\n",
    "\n",
    "# defining header\n",
    "headers ={\n",
    "# Request headers\n",
    "'Cache-Control': 'no-cache',\n",
    "'Subscription-Key': '1419c648254c4bf29be9cb9f05856bae',\n",
    "}\n",
    "response= requests.get(url_endpoint,headers=headers)"
   ]
  },
  {
   "cell_type": "code",
   "execution_count": 19,
   "metadata": {},
   "outputs": [
    {
     "name": "stdout",
     "output_type": "stream",
     "text": [
      "<Response [200]>\n"
     ]
    }
   ],
   "source": [
    "# checking the response\n",
    "print(response)"
   ]
  },
  {
   "cell_type": "code",
   "execution_count": 20,
   "metadata": {},
   "outputs": [],
   "source": [
    "# store information to data file\n",
    "\n",
    "# 1. converting to a dictionary\n",
    "\n",
    "US_dict= json.loads(response.content) # importing string\n",
    "with open ('../data/raw/SMARTABLE/US_data.txt','w') as outfile: # open data file\n",
    "    json.dump(US_dict,outfile,indent=2) # dumpin data into output file'US_data.txt'  "
   ]
  },
  {
   "cell_type": "markdown",
   "metadata": {},
   "source": [
    "# Individual US States"
   ]
  },
  {
   "cell_type": "code",
   "execution_count": 21,
   "metadata": {},
   "outputs": [
    {
     "data": {
      "text/plain": [
       "{'location': {'long': 144.793731,\n",
       "  'countryOrRegion': 'United States',\n",
       "  'provinceOrState': 'Guam',\n",
       "  'county': None,\n",
       "  'isoCode': None,\n",
       "  'lat': 13.444304},\n",
       " 'totalConfirmedCases': 32,\n",
       " 'newlyConfirmedCases': 0,\n",
       " 'totalDeaths': 1,\n",
       " 'newDeaths': 0,\n",
       " 'totalRecoveredCases': 0,\n",
       " 'newlyRecoveredCases': 0}"
      ]
     },
     "execution_count": 21,
     "metadata": {},
     "output_type": "execute_result"
    }
   ],
   "source": [
    "US_dict['stats']['breakdowns'][0]"
   ]
  },
  {
   "cell_type": "code",
   "execution_count": 22,
   "metadata": {},
   "outputs": [],
   "source": [
    "full_list_US_country=[]\n",
    "for pos,each_dict in enumerate (US_dict['stats']['breakdowns'][:]):\n",
    "    flatten_dict=each_dict['location']\n",
    "    flatten_dict.update(dict(list(US_dict['stats']['breakdowns'][pos].items())[1: 7]) \n",
    "    )\n",
    "    full_list_US_country.append(flatten_dict)"
   ]
  },
  {
   "cell_type": "code",
   "execution_count": 23,
   "metadata": {},
   "outputs": [],
   "source": [
    "pd.DataFrame(full_list_US_country).to_csv('../data/raw/SMARTABLE/full_list_US_country.csv',sep=';',index=False)"
   ]
  },
  {
   "cell_type": "code",
   "execution_count": null,
   "metadata": {},
   "outputs": [],
   "source": []
  }
 ],
 "metadata": {
  "kernelspec": {
   "display_name": "Python 3",
   "language": "python",
   "name": "python3"
  },
  "language_info": {
   "codemirror_mode": {
    "name": "ipython",
    "version": 3
   },
   "file_extension": ".py",
   "mimetype": "text/x-python",
   "name": "python",
   "nbconvert_exporter": "python",
   "pygments_lexer": "ipython3",
   "version": "3.8.3"
  }
 },
 "nbformat": 4,
 "nbformat_minor": 2
}
